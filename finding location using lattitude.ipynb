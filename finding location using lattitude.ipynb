{
 "cells": [
  {
   "cell_type": "code",
   "execution_count": 7,
   "id": "a2fd0508-75a0-4ae3-8cbf-7bde447953d8",
   "metadata": {},
   "outputs": [
    {
     "name": "stdout",
     "output_type": "stream",
     "text": [
      "IP Address: 192.168.31.234\n",
      "Location: \n"
     ]
    }
   ],
   "source": [
    "#python  working\n",
    "import geocoder\n",
    "import socket\n",
    "\n",
    "def locate_ip_address():\n",
    "    hostname = socket.gethostname()\n",
    "    ip_address = socket.gethostbyname(hostname)\n",
    "    \n",
    "    g = geocoder.ip(ip_address)\n",
    "    if g.ok:\n",
    "        location = g.address\n",
    "        print(f\"IP Address: {ip_address}\")\n",
    "        print(f\"Location: {location}\")\n",
    "    else:\n",
    "        print(f\"Could not locate IP address: {ip_address}\")\n",
    "\n",
    "# Example usage\n",
    "locate_ip_address()"
   ]
  },
  {
   "cell_type": "code",
   "execution_count": 14,
   "id": "950a9066-c0cd-4b9d-b403-ac8ad1b0bc64",
   "metadata": {},
   "outputs": [
    {
     "name": "stdin",
     "output_type": "stream",
     "text": [
      "Enter the location:  kommuru\n"
     ]
    },
    {
     "name": "stdout",
     "output_type": "stream",
     "text": [
      "Location: Kommuru, Kakumanu, Guntur District, Andhra Pradesh, 522235, India\n",
      "Latitude: 16.0663516\n",
      "Longitude: 80.3602052\n"
     ]
    }
   ],
   "source": [
    "from geopy.geocoders import Nominatim   # working \n",
    "import webbrowser\n",
    "\n",
    "def get_location_coordinates(location):\n",
    "    geolocator = Nominatim(user_agent=\"location_finder\")\n",
    "    location_data = geolocator.geocode(location)\n",
    "    \n",
    "    if location_data is not None:\n",
    "        print(f\"Location: {location_data.address}\")\n",
    "        print(f\"Latitude: {location_data.latitude}\")\n",
    "        print(f\"Longitude: {location_data.longitude}\")\n",
    "        return location_data.latitude, location_data.longitude\n",
    "    else:\n",
    "        print(\"Location not found.\")\n",
    "        return None, None\n",
    "\n",
    "def open_google_maps(latitude, longitude):\n",
    "    url = f\"https://www.google.com/maps/search/?api=1&query={latitude},{longitude}\"\n",
    "    webbrowser.open(url)\n",
    "\n",
    "# Example usage\n",
    "location = input(\"Enter the location: \")\n",
    "latitude, longitude = get_location_coordinates(location)\n",
    "\n",
    "if latitude is not None and longitude is not None:\n",
    "    open_google_maps(latitude, longitude)"
   ]
  },
  {
   "cell_type": "code",
   "execution_count": null,
   "id": "75ea1961-fbee-49df-b528-028434658c0a",
   "metadata": {},
   "outputs": [],
   "source": []
  },
  {
   "cell_type": "code",
   "execution_count": null,
   "id": "6dab54eb-f0de-4886-8362-e3de0d75be85",
   "metadata": {},
   "outputs": [],
   "source": []
  },
  {
   "cell_type": "code",
   "execution_count": null,
   "id": "0bfc69f5-b0ae-4d5d-989c-973ed5145a01",
   "metadata": {},
   "outputs": [],
   "source": []
  }
 ],
 "metadata": {
  "kernelspec": {
   "display_name": "Python 3 (ipykernel)",
   "language": "python",
   "name": "python3"
  },
  "language_info": {
   "codemirror_mode": {
    "name": "ipython",
    "version": 3
   },
   "file_extension": ".py",
   "mimetype": "text/x-python",
   "name": "python",
   "nbconvert_exporter": "python",
   "pygments_lexer": "ipython3",
   "version": "3.11.5"
  }
 },
 "nbformat": 4,
 "nbformat_minor": 5
}
